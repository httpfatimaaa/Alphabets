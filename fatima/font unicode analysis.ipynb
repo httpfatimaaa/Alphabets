{
 "cells": [
  {
   "cell_type": "markdown",
   "metadata": {},
   "source": [
    "To find fonts that can represent a wide range of Unicode characters, we need to analyze the Unicode coverage of multiple fonts and compare them. \n",
    "\n",
    "1. Create a list of fonts we want to evaluate.<newline>\n",
    "2. Retrieve the supported Unicode character range for each font in the list.<newline>\n",
    "3. Compile the results and compare the Unicode coverage among the fonts. Look for fonts that have a broader range of supported Unicode characters.<newline>\n",
    "4. Consider factors such as the scripts or languages we’re interested in, the specific Unicode blocks we want to cover, and the visual design or stylistic preferences we have for the font.<newline>\n"
   ]
  },
  {
   "cell_type": "code",
   "execution_count": 1,
   "metadata": {
    "scrolled": true
   },
   "outputs": [],
   "source": [
    "#pip install fonttools\n",
    "\n",
    "# Make sure you install this first!"
   ]
  },
  {
   "cell_type": "markdown",
   "metadata": {},
   "source": [
    "The code below uses the getBestCmap() method to obtain the mapping of Unicode characters supported by the font, and then it prints the Unicode characters in hexadecimal representation. We can also extract additional information about the font, such as the font family name and font style. The first font used is NotoSans, a popular choice as it aims to provide comprehensive coverage of all Unicode characters."
   ]
  },
  {
   "cell_type": "markdown",
   "metadata": {},
   "source": [
    "# 1. NotoSans"
   ]
  },
  {
   "cell_type": "code",
   "execution_count": 2,
   "metadata": {},
   "outputs": [],
   "source": [
    "from fontTools.ttLib import TTFont\n",
    "\n",
    "# Specify the path to the font file\n",
    "font_path = \"/Users/fatimaadmin/Documents/Alphabets/NotoSans-Regular.ttf\"\n",
    "\n",
    "# Load the font using TTFont\n",
    "font = TTFont(font_path)\n",
    "\n",
    "# Retrieve the supported Unicode character range\n",
    "supported_range = font.getBestCmap().keys()\n",
    "\n",
    "# # Print the supported Unicode characters\n",
    "# for char in supported_range:\n",
    "#     print(hex(char))"
   ]
  },
  {
   "cell_type": "code",
   "execution_count": 3,
   "metadata": {},
   "outputs": [
    {
     "name": "stdout",
     "output_type": "stream",
     "text": [
      "Family Name: Noto Sans\n",
      "Style: Regular\n"
     ]
    }
   ],
   "source": [
    "from fontTools.ttLib import TTFont\n",
    "\n",
    "# Specify the path to the font file\n",
    "font_path = \"/Users/fatimaadmin/Documents/Alphabets/NotoSans-Regular.ttf\"\n",
    "\n",
    "# Load the font using TTFont\n",
    "font = TTFont(font_path)\n",
    "\n",
    "# Retrieve the font family name\n",
    "family_name = None\n",
    "for record in font[\"name\"].names:\n",
    "    if record.nameID == 1:\n",
    "        family_name = record.string.decode(record.getEncoding())\n",
    "\n",
    "# Retrieve the font style\n",
    "style = None\n",
    "for record in font[\"name\"].names:\n",
    "    if record.nameID == 2:\n",
    "        style = record.string.decode(record.getEncoding())\n",
    "\n",
    "# Print the font information\n",
    "print(\"Family Name:\", family_name)\n",
    "print(\"Style:\", style)"
   ]
  },
  {
   "cell_type": "markdown",
   "metadata": {},
   "source": [
    "# 2. Arial Unicode MS"
   ]
  },
  {
   "cell_type": "markdown",
   "metadata": {},
   "source": [
    "Repeat the above, but with a different font."
   ]
  },
  {
   "cell_type": "code",
   "execution_count": 4,
   "metadata": {},
   "outputs": [],
   "source": [
    "from fontTools.ttLib import TTFont\n",
    "\n",
    "# Specify the path to the font file\n",
    "font_path = \"/Users/fatimaadmin/Documents/Alphabets/Arial Unicode MS Font.ttf\"\n",
    "\n",
    "# Load the font using TTFont\n",
    "font = TTFont(font_path)\n",
    "\n",
    "# Retrieve the supported Unicode character range\n",
    "supported_range = font.getBestCmap().keys()\n",
    "\n",
    "# # Print the supported Unicode characters\n",
    "# for char in supported_range:\n",
    "#     print(hex(char))"
   ]
  },
  {
   "cell_type": "code",
   "execution_count": 5,
   "metadata": {},
   "outputs": [
    {
     "name": "stdout",
     "output_type": "stream",
     "text": [
      "Family Name: Arial Unicode MS\n",
      "Style: Normal\n"
     ]
    }
   ],
   "source": [
    "from fontTools.ttLib import TTFont\n",
    "\n",
    "# Specify the path to the font file\n",
    "font_path = \"/Users/fatimaadmin/Documents/Alphabets/Arial Unicode MS Font.ttf\"\n",
    "\n",
    "# Load the font using TTFont\n",
    "font = TTFont(font_path)\n",
    "\n",
    "# Retrieve the font family name\n",
    "family_name = None\n",
    "for record in font[\"name\"].names:\n",
    "    if record.nameID == 1:\n",
    "        family_name = record.string.decode(record.getEncoding())\n",
    "\n",
    "# Retrieve the font style\n",
    "style = None\n",
    "for record in font[\"name\"].names:\n",
    "    if record.nameID == 2:\n",
    "        style = record.string.decode(record.getEncoding())\n",
    "\n",
    "# Print the font information\n",
    "print(\"Family Name:\", family_name)\n",
    "print(\"Style:\", style)"
   ]
  },
  {
   "cell_type": "markdown",
   "metadata": {},
   "source": [
    "# Comparison"
   ]
  },
  {
   "cell_type": "code",
   "execution_count": 6,
   "metadata": {},
   "outputs": [],
   "source": [
    "from fontTools.ttLib import TTFont\n",
    "\n",
    "# Specify the path to the NotoSans font file\n",
    "noto_path = \"/Users/fatimaadmin/Documents/Alphabets/NotoSans-Regular.ttf\"\n",
    "\n",
    "# Load the NotoSans font using TTFont\n",
    "noto_font = TTFont(noto_path)\n",
    "\n",
    "# Retrieve the supported Unicode character range for NotoSans\n",
    "noto_supported_range = set(noto_font.getBestCmap().keys())\n",
    "\n",
    "# Specify the path to the Arial Unicode MS font file\n",
    "arial_path = \"/Users/fatimaadmin/Documents/Alphabets/Arial Unicode MS Font.ttf\"\n",
    "\n",
    "# Load the Arial Unicode MS font using TTFont\n",
    "arial_font = TTFont(arial_path)\n",
    "\n",
    "# Retrieve the supported Unicode character range for Arial Unicode MS\n",
    "arial_supported_range = set(arial_font.getBestCmap().keys())\n",
    "\n",
    "# Find unique Unicode characters in NotoSans\n",
    "noto_unique_chars = noto_supported_range - arial_supported_range\n",
    "\n",
    "# Find unique Unicode characters in Arial Unicode MS\n",
    "arial_unique_chars = arial_supported_range - noto_supported_range\n",
    "\n",
    "# Find overlapping Unicode characters\n",
    "overlap_chars = noto_supported_range.intersection(arial_supported_range)\n",
    "\n",
    "# Print the results:\n",
    "\n",
    "# print(\"Unique characters in NotoSans:\")\n",
    "# for char in noto_unique_chars:\n",
    "#     print(hex(char))\n",
    "\n",
    "# print(\"\\nUnique characters in Arial Unicode MS:\")\n",
    "# for char in arial_unique_chars:\n",
    "#     print(hex(char))\n",
    "\n",
    "# print(\"\\nOverlap characters:\")\n",
    "# for char in overlap_chars:\n",
    "#     print(hex(char))"
   ]
  },
  {
   "cell_type": "markdown",
   "metadata": {},
   "source": [
    "Alternatively, we can just define a function to compare the Unicode coverage between multiple fonts."
   ]
  },
  {
   "cell_type": "code",
   "execution_count": 7,
   "metadata": {},
   "outputs": [],
   "source": [
    "from fontTools.ttLib import TTFont\n",
    "\n",
    "def compare_unicode_coverage(font_paths):\n",
    "    unicode_coverage = {}\n",
    "\n",
    "    for font_path in font_paths:\n",
    "        font = TTFont(font_path)\n",
    "        supported_range = set(font.getBestCmap().keys())\n",
    "        unicode_coverage[font_path] = supported_range\n",
    "\n",
    "    overlap_chars = set.intersection(*unicode_coverage.values())\n",
    "    unique_chars = {font_path: supported_range - overlap_chars for font_path, \n",
    "                    supported_range in unicode_coverage.items()}\n",
    "\n",
    "    return overlap_chars, unique_chars"
   ]
  },
  {
   "cell_type": "code",
   "execution_count": 8,
   "metadata": {},
   "outputs": [],
   "source": [
    "# Example usage comparing NotoSans, Arial Unicode MS, Courier New, Segoe UI, and Times New Roman:\n",
    "font_paths = [\"/Users/fatimaadmin/Documents/Alphabets/NotoSans-Regular.ttf\", \n",
    "              \"/Users/fatimaadmin/Documents/Alphabets/Arial Unicode MS Font.ttf\", \n",
    "              \"/Users/fatimaadmin/Documents/Alphabets/courier_new.ttf\",\n",
    "              \"/Users/fatimaadmin/Documents/Alphabets/Segoe UI.ttf\",\n",
    "              \"/Users/fatimaadmin/Documents/Alphabets/Times New Roman Font.ttf\"]\n",
    "overlap_chars, unique_chars = compare_unicode_coverage(font_paths)\n",
    "\n",
    "# print(\"Overlap characters:\")\n",
    "# for char in overlap_chars:\n",
    "#     print(hex(char))\n",
    "\n",
    "# print(\"\\nUnique characters:\")\n",
    "# for font_path, chars in unique_chars.items():\n",
    "#     print(f\"\\n{font_path}:\")\n",
    "#     for char in chars:\n",
    "#         print(hex(char))"
   ]
  },
  {
   "cell_type": "markdown",
   "metadata": {},
   "source": [
    "The hexadecimal representation is used to represent Unicode characters in a compact and standardized way. It provides a numerical representation of the Unicode code point, allowing easy reference to specific characters.\n",
    "\n",
    "### Unique Characters:\n",
    "\n",
    "Under each font path, there are multiple lines representing the unique characters in hexadecimal format. Each line corresponds to a unique character.\n",
    "\n",
    "### Overlapping Characters:\n",
    "Each line represents an overlap character, i.e., a character that is present in the Unicode coverage of multiple fonts.\n",
    "\n",
    "This information can help us identify common symbols or characters that are widely supported across different fonts. Thus we can determine the essential characters that should be covered by any font we choose."
   ]
  },
  {
   "cell_type": "markdown",
   "metadata": {},
   "source": [
    "# Filtering Fonts"
   ]
  },
  {
   "cell_type": "code",
   "execution_count": 9,
   "metadata": {},
   "outputs": [],
   "source": [
    "from fontTools.ttLib import TTFont\n",
    "\n",
    "def filter_fonts_by_coverage(font_paths, desired_characters):\n",
    "    filtered_fonts = []\n",
    "\n",
    "    for font_path in font_paths:\n",
    "        font = TTFont(font_path)\n",
    "        supported_range = set(font.getBestCmap().keys())\n",
    "\n",
    "        overlap_chars = supported_range.intersection(desired_characters)\n",
    "        unique_chars = supported_range - overlap_chars\n",
    "        \n",
    "# Check if the font has at least 1 overlap character and 10 unique characters \n",
    "# This can be adjusted according to our requirements\n",
    "        if len(overlap_chars) >= 3 and len(unique_chars) >= 10:\n",
    "            filtered_fonts.append(font_path)\n",
    "\n",
    "    return filtered_fonts\n",
    "\n",
    "# Example usage:\n",
    "font_paths = [\n",
    "    \"/Users/fatimaadmin/Documents/Alphabets/NotoSans-Regular.ttf\",\n",
    "    \"/Users/fatimaadmin/Documents/Alphabets/Arial Unicode MS Font.ttf\",\n",
    "    \"/Users/fatimaadmin/Documents/Alphabets/courier_new.ttf\",\n",
    "    \"/Users/fatimaadmin/Documents/Alphabets/Segoe UI.ttf\",\n",
    "    \"/Users/fatimaadmin/Documents/Alphabets/Times New Roman Font.ttf\"\n",
    "]\n",
    "desired_characters = {\n",
    "    0x0020,  # Space\n",
    "    0x0021,  # Exclamation mark\n",
    "    0x0022,  # Quotation mark\n",
    "    # Add more desired characters here\n",
    "}\n",
    "\n",
    "filtered_fonts = filter_fonts_by_coverage(font_paths, desired_characters)\n",
    "\n",
    "# print(\"Filtered Fonts:\")\n",
    "# for font_path in filtered_fonts:\n",
    "#     print(font_path)"
   ]
  }
 ],
 "metadata": {
  "kernelspec": {
   "display_name": "Python 3",
   "language": "python",
   "name": "python3"
  },
  "language_info": {
   "codemirror_mode": {
    "name": "ipython",
    "version": 3
   },
   "file_extension": ".py",
   "mimetype": "text/x-python",
   "name": "python",
   "nbconvert_exporter": "python",
   "pygments_lexer": "ipython3",
   "version": "3.8.3"
  }
 },
 "nbformat": 4,
 "nbformat_minor": 4
}
